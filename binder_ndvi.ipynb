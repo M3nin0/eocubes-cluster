{
 "cells": [
  {
   "cell_type": "code",
   "execution_count": null,
   "metadata": {},
   "outputs": [],
   "source": [
    "from dask.distributed import Client, progress\n",
    "from dask_gateway import Gateway\n",
    "import matplotlib.pyplot as plt\n",
    "import xarray as xr\n",
    "\n",
    "gateway = Gateway()\n",
    "cluster = gateway.new_cluster()\n",
    "cluster.scale(30)\n",
    "cluster"
   ]
  },
  {
   "cell_type": "code",
   "execution_count": null,
   "metadata": {},
   "outputs": [],
   "source": [
    "client = Client(cluster)\n",
    "client"
   ]
  },
  {
   "cell_type": "code",
   "execution_count": null,
   "metadata": {},
   "outputs": [],
   "source": [
    "red = 'http://brazildatacube.dpi.inpe.br/Repository/Mosaic/C4_64_1M_MED/087107/2019-12-01_2019-12-31/C4_64_1M_MED_087107_2019-12-01_2019-12-31_red.tif'\n",
    "nir = 'http://brazildatacube.dpi.inpe.br/Repository/Mosaic/C4_64_1M_MED/087108/2019-12-01_2019-12-31/C4_64_1M_MED_087108_2019-12-01_2019-12-31_nir.tif'"
   ]
  },
  {
   "cell_type": "code",
   "execution_count": null,
   "metadata": {},
   "outputs": [],
   "source": [
    "chunks={'band': 1, 'x': 2048, 'y': 2048}\n",
    "\n",
    "red = xr.open_rasterio(red, chunks = chunks).to_dataset(name = 'red')\n",
    "nir = xr.open_rasterio(nir, chunks = chunks).to_dataset(name = 'nir')\n",
    "image = xr.merge([red, nir])"
   ]
  },
  {
   "cell_type": "code",
   "execution_count": null,
   "metadata": {},
   "outputs": [],
   "source": [
    "def ndvi(dataset):\n",
    "    return (dataset['nir'] - dataset['red']) / (dataset['nir'] + dataset['red'])"
   ]
  },
  {
   "cell_type": "code",
   "execution_count": null,
   "metadata": {},
   "outputs": [],
   "source": [
    "image['ndvi'] = ndvi(image)"
   ]
  },
  {
   "cell_type": "code",
   "execution_count": null,
   "metadata": {},
   "outputs": [],
   "source": [
    "image['ndvi'].plot()"
   ]
  }
 ],
 "metadata": {
  "kernelspec": {
   "display_name": "Python 3",
   "language": "python",
   "name": "python3"
  },
  "language_info": {
   "codemirror_mode": {
    "name": "ipython",
    "version": 3
   },
   "file_extension": ".py",
   "mimetype": "text/x-python",
   "name": "python",
   "nbconvert_exporter": "python",
   "pygments_lexer": "ipython3",
   "version": "3.6.10"
  }
 },
 "nbformat": 4,
 "nbformat_minor": 4
}
